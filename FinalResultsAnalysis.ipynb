{
 "cells": [
  {
   "cell_type": "code",
   "execution_count": 1,
   "id": "626ce428",
   "metadata": {},
   "outputs": [],
   "source": [
    "import pandas as pd\n",
    "import numpy as np\n",
    "pd.set_option('display.max_rows', 10)"
   ]
  },
  {
   "cell_type": "markdown",
   "id": "fe4fee49",
   "metadata": {},
   "source": [
    "### Data processing"
   ]
  },
  {
   "cell_type": "code",
   "execution_count": 2,
   "id": "8f63e512",
   "metadata": {},
   "outputs": [],
   "source": [
    "filenames = ['conflicts', 'branches', 'wall_time', 'status', 'obj_value']\n",
    "ORTOOLS_PATH = 'data/statistics/ortools/'\n",
    "SPROLOG_PATH = 'data/statistics/prolog/'\n",
    "DOCPLEX_PATH = 'data/statistics/docplex/'\n",
    "\n",
    "ortools_files = [open(ORTOOLS_PATH + filename + '.txt') for filename in filenames]\n",
    "sprolog_files = [open(SPROLOG_PATH + filename + '.txt') for filename in filenames]\n",
    "docplex_files = [open(DOCPLEX_PATH + filename + '.txt') for filename in filenames]\n",
    "\n",
    "tests = ['n_jobs', 'percent_alt_jobs',\n",
    "         'n_machines', 'percent_alt_machines',\n",
    "         'avg_task_size', 'production_range',\n",
    "         'time_usage', 'over_time_hours',\n",
    "         'time_out']\n"
   ]
  },
  {
   "cell_type": "code",
   "execution_count": 3,
   "id": "a9c10d1d",
   "metadata": {},
   "outputs": [],
   "source": [
    "test_info = {}\n",
    "for test in tests:\n",
    "    test_info[test] = {}\n",
    "\n",
    "for ortools_file, sprolog_file, docplex_file, filename in zip(ortools_files, sprolog_files, docplex_files, filenames):\n",
    "    for test in tests:\n",
    "        test_info[test]['ortools_' + filename] = ortools_file.readline().strip('\\n').split(',')[1:]\n",
    "        test_info[test]['sprolog_' + filename] = sprolog_file.readline().strip('\\n').split(',')[1:]\n",
    "        test_info[test]['docplex_' + filename] = docplex_file.readline().strip('\\n').split(',')[1:]\n",
    "\n",
    "for test in tests:\n",
    "    test_info[test] = pd.DataFrame.from_dict(test_info[test])\n",
    "\n"
   ]
  },
  {
   "cell_type": "code",
   "execution_count": 4,
   "id": "876086bc",
   "metadata": {},
   "outputs": [],
   "source": [
    "test_info['n_jobs']['n_jobs'] = [2, 5, 10, 20, 40, 60, 80, 100, 125, 150]\n",
    "\n",
    "test_info['percent_alt_jobs']['percent_alt_jobs'] = [0, 10, 20, 30, 40, 50, 60, 70, 80, 90, 100]\n",
    "\n",
    "test_info['n_machines']['n_machines'] = [1, 2, 3, 4, 5, 6, 7, 8, 9, 10]\n",
    "\n",
    "test_info['percent_alt_machines']['percent_alt_machines'] = [0, 10, 20, 30, 40, 50, 60, 70, 80, 90, 100]\n",
    "\n",
    "test_info['avg_task_size']['avg_task_size'] = [10, 50, 100, 200, 300, 400, 500, 600, 700, 800, 900, 1000, 1250, 1500, 2000, 2500]\n",
    "\n",
    "test_info['production_range']['production_range'] = [1, 2, 3, 4, 5, 6, 8, 10, 12, 14, 16, 18, 20]\n",
    "\n",
    "test_info['time_usage']['time_usage'] = [50, 60, 70, 80, 90, 100]\n",
    "\n",
    "test_info['over_time_hours']['over_time_hours'] = [0, 1, 2, 3, 4, 5, 6, 7, 8, 9, 10]\n",
    "\n",
    "test_info['time_out']['time_out'] = list(range(1,300+1))"
   ]
  },
  {
   "cell_type": "code",
   "execution_count": 5,
   "id": "76ecdccb",
   "metadata": {},
   "outputs": [],
   "source": [
    "n_jobs_conflicts = test_info['n_jobs'][['n_jobs', 'ortools_conflicts', 'sprolog_conflicts', 'docplex_conflicts']]\n",
    "n_jobs_branches  = test_info['n_jobs'][['n_jobs', 'ortools_branches', 'sprolog_branches', 'docplex_branches']]\n",
    "n_jobs_wall_time = test_info['n_jobs'][['n_jobs', 'ortools_wall_time', 'sprolog_wall_time', 'docplex_wall_time']]\n",
    "n_jobs_status    = test_info['n_jobs'][['n_jobs', 'ortools_status', 'sprolog_status', 'docplex_status']]\n",
    "n_jobs_obj_value = test_info['n_jobs'][['n_jobs', 'ortools_obj_value', 'sprolog_obj_value', 'docplex_obj_value']]\n",
    "\n",
    "percent_alt_jobs_conflicts = test_info['percent_alt_jobs'][['percent_alt_jobs', 'ortools_conflicts', 'sprolog_conflicts', 'docplex_conflicts']]\n",
    "percent_alt_jobs_branches  = test_info['percent_alt_jobs'][['percent_alt_jobs', 'ortools_branches', 'sprolog_branches', 'docplex_branches']]\n",
    "percent_alt_jobs_wall_time = test_info['percent_alt_jobs'][['percent_alt_jobs', 'ortools_wall_time', 'sprolog_wall_time', 'docplex_wall_time']]\n",
    "percent_alt_jobs_status    = test_info['percent_alt_jobs'][['percent_alt_jobs', 'ortools_status', 'sprolog_status', 'docplex_status']]\n",
    "percent_alt_jobs_obj_value = test_info['percent_alt_jobs'][['percent_alt_jobs', 'ortools_obj_value', 'sprolog_obj_value', 'docplex_obj_value']]\n",
    "\n",
    "n_machines_jobs_conflicts = test_info['n_machines'][['n_machines', 'ortools_conflicts', 'sprolog_conflicts', 'docplex_conflicts']]\n",
    "n_machines_jobs_branches  = test_info['n_machines'][['n_machines', 'ortools_branches', 'sprolog_branches', 'docplex_branches']]\n",
    "n_machines_jobs_wall_time = test_info['n_machines'][['n_machines', 'ortools_wall_time', 'sprolog_wall_time', 'docplex_wall_time']]\n",
    "n_machines_jobs_status    = test_info['n_machines'][['n_machines', 'ortools_status', 'sprolog_status', 'docplex_status']]\n",
    "n_machines_jobs_obj_value = test_info['n_machines'][['n_machines', 'ortools_obj_value', 'sprolog_obj_value', 'docplex_obj_value']]\n",
    "\n",
    "percent_alt_machines_conflicts = test_info['percent_alt_machines'][['percent_alt_machines', 'ortools_conflicts', 'sprolog_conflicts', 'docplex_conflicts']]\n",
    "percent_alt_machines_branches  = test_info['percent_alt_machines'][['percent_alt_machines', 'ortools_branches', 'sprolog_branches', 'docplex_branches']]\n",
    "percent_alt_machines_wall_time = test_info['percent_alt_machines'][['percent_alt_machines', 'ortools_wall_time', 'sprolog_wall_time', 'docplex_wall_time']]\n",
    "percent_alt_machines_status    = test_info['percent_alt_machines'][['percent_alt_machines', 'ortools_status', 'sprolog_status', 'docplex_status']]\n",
    "percent_alt_machines_obj_value = test_info['percent_alt_machines'][['percent_alt_machines', 'ortools_obj_value', 'sprolog_obj_value', 'docplex_obj_value']]\n",
    "\n",
    "avg_task_size_conflicts = test_info['avg_task_size'][['avg_task_size', 'ortools_conflicts', 'sprolog_conflicts', 'docplex_conflicts']]\n",
    "avg_task_size_branches  = test_info['avg_task_size'][['avg_task_size', 'ortools_branches', 'sprolog_branches', 'docplex_branches']]\n",
    "avg_task_size_wall_time = test_info['avg_task_size'][['avg_task_size', 'ortools_wall_time', 'sprolog_wall_time', 'docplex_wall_time']]\n",
    "avg_task_size_status    = test_info['avg_task_size'][['avg_task_size', 'ortools_status', 'sprolog_status', 'docplex_status']]\n",
    "avg_task_size_obj_value = test_info['avg_task_size'][['avg_task_size', 'ortools_obj_value', 'sprolog_obj_value', 'docplex_obj_value']]\n",
    "\n",
    "production_range_conflicts = test_info['production_range'][['production_range', 'ortools_conflicts', 'sprolog_conflicts', 'docplex_conflicts']]\n",
    "production_range_branches  = test_info['production_range'][['production_range', 'ortools_branches', 'sprolog_branches', 'docplex_branches']]\n",
    "production_range_wall_time = test_info['production_range'][['production_range', 'ortools_wall_time', 'sprolog_wall_time', 'docplex_wall_time']]\n",
    "production_range_status    = test_info['production_range'][['production_range', 'ortools_status', 'sprolog_status', 'docplex_status']]\n",
    "production_range_obj_value = test_info['production_range'][['production_range', 'ortools_obj_value', 'sprolog_obj_value', 'docplex_obj_value']]\n",
    "\n",
    "time_usage_conflicts = test_info['time_usage'][['time_usage', 'ortools_conflicts', 'sprolog_conflicts', 'docplex_conflicts']]\n",
    "time_usage_branches  = test_info['time_usage'][['time_usage', 'ortools_branches', 'sprolog_branches', 'docplex_branches']]\n",
    "time_usage_wall_time = test_info['time_usage'][['time_usage', 'ortools_wall_time', 'sprolog_wall_time', 'docplex_wall_time']]\n",
    "time_usage_status    = test_info['time_usage'][['time_usage', 'ortools_status', 'sprolog_status', 'docplex_status']]\n",
    "time_usage_obj_value = test_info['time_usage'][['time_usage', 'ortools_obj_value', 'sprolog_obj_value', 'docplex_obj_value']]\n",
    "\n",
    "over_time_hours_conflicts = test_info['over_time_hours'][['over_time_hours', 'ortools_conflicts', 'sprolog_conflicts', 'docplex_conflicts']]\n",
    "over_time_hours_branches  = test_info['over_time_hours'][['over_time_hours', 'ortools_branches', 'sprolog_branches', 'docplex_branches']]\n",
    "over_time_hours_wall_time = test_info['over_time_hours'][['over_time_hours', 'ortools_wall_time', 'sprolog_wall_time', 'docplex_wall_time']]\n",
    "over_time_hours_status    = test_info['over_time_hours'][['over_time_hours', 'ortools_status', 'sprolog_status', 'docplex_status']]\n",
    "over_time_hours_obj_value = test_info['over_time_hours'][['over_time_hours', 'ortools_obj_value', 'sprolog_obj_value', 'docplex_obj_value']]\n",
    "\n",
    "time_out_conflicts = test_info['time_out'][['time_out', 'ortools_conflicts', 'sprolog_conflicts', 'docplex_conflicts']]\n",
    "time_out_branches  = test_info['time_out'][['time_out', 'ortools_branches', 'sprolog_branches', 'docplex_branches']]\n",
    "time_out_wall_time = test_info['time_out'][['time_out', 'ortools_wall_time', 'sprolog_wall_time', 'docplex_wall_time']]\n",
    "time_out_status    = test_info['time_out'][['time_out', 'ortools_status', 'sprolog_status', 'docplex_status']]\n",
    "time_out_obj_value = test_info['time_out'][['time_out', 'ortools_obj_value', 'sprolog_obj_value', 'docplex_obj_value']]\n"
   ]
  },
  {
   "cell_type": "code",
   "execution_count": 6,
   "id": "775857fd",
   "metadata": {
    "collapsed": true
   },
   "outputs": [
    {
     "data": {
      "text/html": [
       "<div>\n",
       "<style scoped>\n",
       "    .dataframe tbody tr th:only-of-type {\n",
       "        vertical-align: middle;\n",
       "    }\n",
       "\n",
       "    .dataframe tbody tr th {\n",
       "        vertical-align: top;\n",
       "    }\n",
       "\n",
       "    .dataframe thead th {\n",
       "        text-align: right;\n",
       "    }\n",
       "</style>\n",
       "<table border=\"1\" class=\"dataframe\">\n",
       "  <thead>\n",
       "    <tr style=\"text-align: right;\">\n",
       "      <th></th>\n",
       "      <th>time_out</th>\n",
       "      <th>ortools_branches</th>\n",
       "      <th>sprolog_branches</th>\n",
       "      <th>docplex_branches</th>\n",
       "    </tr>\n",
       "  </thead>\n",
       "  <tbody>\n",
       "    <tr>\n",
       "      <th>0</th>\n",
       "      <td>1</td>\n",
       "      <td>1088</td>\n",
       "      <td>_6024965</td>\n",
       "      <td>3144</td>\n",
       "    </tr>\n",
       "    <tr>\n",
       "      <th>1</th>\n",
       "      <td>2</td>\n",
       "      <td>2119</td>\n",
       "      <td>_6817229</td>\n",
       "      <td>3144</td>\n",
       "    </tr>\n",
       "    <tr>\n",
       "      <th>2</th>\n",
       "      <td>3</td>\n",
       "      <td>1066</td>\n",
       "      <td>_4794917</td>\n",
       "      <td>3144</td>\n",
       "    </tr>\n",
       "    <tr>\n",
       "      <th>3</th>\n",
       "      <td>4</td>\n",
       "      <td>1515</td>\n",
       "      <td>_5230981</td>\n",
       "      <td>3144</td>\n",
       "    </tr>\n",
       "    <tr>\n",
       "      <th>4</th>\n",
       "      <td>5</td>\n",
       "      <td>2053</td>\n",
       "      <td>_6023245</td>\n",
       "      <td>3144</td>\n",
       "    </tr>\n",
       "    <tr>\n",
       "      <th>...</th>\n",
       "      <td>...</td>\n",
       "      <td>...</td>\n",
       "      <td>...</td>\n",
       "      <td>...</td>\n",
       "    </tr>\n",
       "    <tr>\n",
       "      <th>295</th>\n",
       "      <td>296</td>\n",
       "      <td>3466</td>\n",
       "      <td>_5348581</td>\n",
       "      <td>3144</td>\n",
       "    </tr>\n",
       "    <tr>\n",
       "      <th>296</th>\n",
       "      <td>297</td>\n",
       "      <td>1506</td>\n",
       "      <td>_6140845</td>\n",
       "      <td>3144</td>\n",
       "    </tr>\n",
       "    <tr>\n",
       "      <th>297</th>\n",
       "      <td>298</td>\n",
       "      <td>1498</td>\n",
       "      <td>_6933109</td>\n",
       "      <td>3144</td>\n",
       "    </tr>\n",
       "    <tr>\n",
       "      <th>298</th>\n",
       "      <td>299</td>\n",
       "      <td>1537</td>\n",
       "      <td>_4892605</td>\n",
       "      <td>3144</td>\n",
       "    </tr>\n",
       "    <tr>\n",
       "      <th>299</th>\n",
       "      <td>300</td>\n",
       "      <td>1069</td>\n",
       "      <td>_5350595</td>\n",
       "      <td>3144</td>\n",
       "    </tr>\n",
       "  </tbody>\n",
       "</table>\n",
       "<p>300 rows × 4 columns</p>\n",
       "</div>"
      ],
      "text/plain": [
       "     time_out ortools_branches sprolog_branches docplex_branches\n",
       "0           1             1088         _6024965             3144\n",
       "1           2             2119         _6817229             3144\n",
       "2           3             1066         _4794917             3144\n",
       "3           4             1515         _5230981             3144\n",
       "4           5             2053         _6023245             3144\n",
       "..        ...              ...              ...              ...\n",
       "295       296             3466         _5348581             3144\n",
       "296       297             1506         _6140845             3144\n",
       "297       298             1498         _6933109             3144\n",
       "298       299             1537         _4892605             3144\n",
       "299       300             1069         _5350595             3144\n",
       "\n",
       "[300 rows x 4 columns]"
      ]
     },
     "execution_count": 6,
     "metadata": {},
     "output_type": "execute_result"
    }
   ],
   "source": [
    "time_out_branches"
   ]
  },
  {
   "cell_type": "markdown",
   "id": "36f45aae",
   "metadata": {},
   "source": [
    "# Graphs"
   ]
  },
  {
   "cell_type": "markdown",
   "id": "81c592dc",
   "metadata": {},
   "source": [
    "## Timeout"
   ]
  },
  {
   "cell_type": "code",
   "execution_count": 29,
   "id": "fc9eba67",
   "metadata": {},
   "outputs": [
    {
     "data": {
      "text/plain": [
       "<matplotlib.legend.Legend at 0x208546fbeb0>"
      ]
     },
     "execution_count": 29,
     "metadata": {},
     "output_type": "execute_result"
    },
    {
     "data": {
      "image/png": "[encoded data removed]",
      "text/plain": [
       "<Figure size 432x288 with 1 Axes>"
      ]
     },
     "metadata": {
      "needs_background": "light"
     },
     "output_type": "display_data"
    }
   ],
   "source": [
    "# conflicts\n",
    "df = time_out_conflicts.astype(float)\n",
    "\n",
    "ax = df.plot(y=['ortools_conflicts', 'sprolog_conflicts', 'docplex_conflicts']) #, style=[\"-.\", \"-\", \"-.\"])\n",
    "ax.set_xlabel(\"Time out (in seconds)\")\n",
    "ax.set_ylabel(\"Number of Conflicts\")\n",
    "ax.legend([\"OR-Tools\", \"SICStus\", \"DOcplex\"])"
   ]
  },
  {
   "cell_type": "code",
   "execution_count": 13,
   "id": "1f30617c",
   "metadata": {},
   "outputs": [
    {
     "data": {
      "text/plain": [
       "<matplotlib.legend.Legend at 0x208503385e0>"
      ]
     },
     "execution_count": 13,
     "metadata": {},
     "output_type": "execute_result"
    },
    {
     "data": {
      "image/png": "[encoded data removed]",
      "text/plain": [
       "<Figure size 432x288 with 1 Axes>"
      ]
     },
     "metadata": {
      "needs_background": "light"
     },
     "output_type": "display_data"
    }
   ],
   "source": [
    "# branches\n",
    "df = time_out_branches.drop(labels='sprolog_branches', axis=1).astype(float)\n",
    "\n",
    "ax = df.plot(y=['ortools_branches', 'docplex_branches'])  # Prolog branches doesnt work\n",
    "ax.set_xlabel(\"Time out (in seconds)\")\n",
    "ax.set_ylabel(\"Number of branches\")\n",
    "ax.legend([\"OR-Tools\", \"DOcplex\"])"
   ]
  },
  {
   "cell_type": "code",
   "execution_count": 14,
   "id": "170c7bac",
   "metadata": {},
   "outputs": [
    {
     "data": {
      "text/plain": [
       "<matplotlib.legend.Legend at 0x2085038dac0>"
      ]
     },
     "execution_count": 14,
     "metadata": {},
     "output_type": "execute_result"
    },
    {
     "data": {
      "image/png": "[encoded data removed]",
      "text/plain": [
       "<Figure size 432x288 with 1 Axes>"
      ]
     },
     "metadata": {
      "needs_background": "light"
     },
     "output_type": "display_data"
    }
   ],
   "source": [
    "# wall time\n",
    "df = time_out_wall_time.astype(float)\n",
    "\n",
    "ax = df.plot(y=['ortools_wall_time', 'sprolog_wall_time', 'docplex_wall_time'])\n",
    "ax.set_xlabel(\"Time out (in seconds)\")\n",
    "ax.set_ylabel(\"Wall time\")\n",
    "ax.legend([\"OR-Tools\", \"SICStus\", \"DOcplex\"])"
   ]
  },
  {
   "cell_type": "code",
   "execution_count": 41,
   "id": "eeb5de12",
   "metadata": {},
   "outputs": [
    {
     "ename": "TypeError",
     "evalue": "no numeric data to plot",
     "output_type": "error",
     "traceback": [
      "\u001b[1;31m---------------------------------------------------------------------------\u001b[0m",
      "\u001b[1;31mTypeError\u001b[0m                                 Traceback (most recent call last)",
      "Input \u001b[1;32mIn [41]\u001b[0m, in \u001b[0;36m<cell line: 4>\u001b[1;34m()\u001b[0m\n\u001b[0;32m      1\u001b[0m \u001b[38;5;66;03m# status\u001b[39;00m\n\u001b[0;32m      2\u001b[0m df \u001b[38;5;241m=\u001b[39m time_out_status\u001b[38;5;241m.\u001b[39mreplace({\u001b[38;5;124m'\u001b[39m\u001b[38;5;124m OPTIMAL\u001b[39m\u001b[38;5;124m'\u001b[39m: \u001b[38;5;124m'\u001b[39m\u001b[38;5;124mOPTIMAL\u001b[39m\u001b[38;5;124m'\u001b[39m, \u001b[38;5;124m'\u001b[39m\u001b[38;5;124m success\u001b[39m\u001b[38;5;124m'\u001b[39m: \u001b[38;5;124m'\u001b[39m\u001b[38;5;124mFEASIBLE\u001b[39m\u001b[38;5;124m'\u001b[39m, \u001b[38;5;124m'\u001b[39m\u001b[38;5;124m Optimal\u001b[39m\u001b[38;5;124m'\u001b[39m: \u001b[38;5;124m'\u001b[39m\u001b[38;5;124mOPTIMAL\u001b[39m\u001b[38;5;124m'\u001b[39m})\n\u001b[1;32m----> 4\u001b[0m ax \u001b[38;5;241m=\u001b[39m \u001b[43mdf\u001b[49m\u001b[38;5;241;43m.\u001b[39;49m\u001b[43mplot\u001b[49m\u001b[43m(\u001b[49m\u001b[43my\u001b[49m\u001b[38;5;241;43m=\u001b[39;49m\u001b[43m[\u001b[49m\u001b[38;5;124;43m'\u001b[39;49m\u001b[38;5;124;43mortools_status\u001b[39;49m\u001b[38;5;124;43m'\u001b[39;49m\u001b[43m,\u001b[49m\u001b[43m \u001b[49m\u001b[38;5;124;43m'\u001b[39;49m\u001b[38;5;124;43msprolog_status\u001b[39;49m\u001b[38;5;124;43m'\u001b[39;49m\u001b[43m,\u001b[49m\u001b[43m \u001b[49m\u001b[38;5;124;43m'\u001b[39;49m\u001b[38;5;124;43mdocplex_status\u001b[39;49m\u001b[38;5;124;43m'\u001b[39;49m\u001b[43m]\u001b[49m\u001b[43m)\u001b[49m\n\u001b[0;32m      5\u001b[0m ax\u001b[38;5;241m.\u001b[39mset_xlabel(\u001b[38;5;124m\"\u001b[39m\u001b[38;5;124mTime out (in seconds)\u001b[39m\u001b[38;5;124m\"\u001b[39m)\n\u001b[0;32m      6\u001b[0m ax\u001b[38;5;241m.\u001b[39mset_ylabel(\u001b[38;5;124m\"\u001b[39m\u001b[38;5;124mStatus\u001b[39m\u001b[38;5;124m\"\u001b[39m)\n",
      "File \u001b[1;32m~\\anaconda3\\lib\\site-packages\\pandas\\plotting\\_core.py:972\u001b[0m, in \u001b[0;36mPlotAccessor.__call__\u001b[1;34m(self, *args, **kwargs)\u001b[0m\n\u001b[0;32m    969\u001b[0m             label_name \u001b[38;5;241m=\u001b[39m label_kw \u001b[38;5;129;01mor\u001b[39;00m data\u001b[38;5;241m.\u001b[39mcolumns\n\u001b[0;32m    970\u001b[0m             data\u001b[38;5;241m.\u001b[39mcolumns \u001b[38;5;241m=\u001b[39m label_name\n\u001b[1;32m--> 972\u001b[0m \u001b[38;5;28;01mreturn\u001b[39;00m plot_backend\u001b[38;5;241m.\u001b[39mplot(data, kind\u001b[38;5;241m=\u001b[39mkind, \u001b[38;5;241m*\u001b[39m\u001b[38;5;241m*\u001b[39mkwargs)\n",
      "File \u001b[1;32m~\\anaconda3\\lib\\site-packages\\pandas\\plotting\\_matplotlib\\__init__.py:71\u001b[0m, in \u001b[0;36mplot\u001b[1;34m(data, kind, **kwargs)\u001b[0m\n\u001b[0;32m     69\u001b[0m         kwargs[\u001b[38;5;124m\"\u001b[39m\u001b[38;5;124max\u001b[39m\u001b[38;5;124m\"\u001b[39m] \u001b[38;5;241m=\u001b[39m \u001b[38;5;28mgetattr\u001b[39m(ax, \u001b[38;5;124m\"\u001b[39m\u001b[38;5;124mleft_ax\u001b[39m\u001b[38;5;124m\"\u001b[39m, ax)\n\u001b[0;32m     70\u001b[0m plot_obj \u001b[38;5;241m=\u001b[39m PLOT_CLASSES[kind](data, \u001b[38;5;241m*\u001b[39m\u001b[38;5;241m*\u001b[39mkwargs)\n\u001b[1;32m---> 71\u001b[0m \u001b[43mplot_obj\u001b[49m\u001b[38;5;241;43m.\u001b[39;49m\u001b[43mgenerate\u001b[49m\u001b[43m(\u001b[49m\u001b[43m)\u001b[49m\n\u001b[0;32m     72\u001b[0m plot_obj\u001b[38;5;241m.\u001b[39mdraw()\n\u001b[0;32m     73\u001b[0m \u001b[38;5;28;01mreturn\u001b[39;00m plot_obj\u001b[38;5;241m.\u001b[39mresult\n",
      "File \u001b[1;32m~\\anaconda3\\lib\\site-packages\\pandas\\plotting\\_matplotlib\\core.py:327\u001b[0m, in \u001b[0;36mMPLPlot.generate\u001b[1;34m(self)\u001b[0m\n\u001b[0;32m    325\u001b[0m \u001b[38;5;28;01mdef\u001b[39;00m \u001b[38;5;21mgenerate\u001b[39m(\u001b[38;5;28mself\u001b[39m):\n\u001b[0;32m    326\u001b[0m     \u001b[38;5;28mself\u001b[39m\u001b[38;5;241m.\u001b[39m_args_adjust()\n\u001b[1;32m--> 327\u001b[0m     \u001b[38;5;28;43mself\u001b[39;49m\u001b[38;5;241;43m.\u001b[39;49m\u001b[43m_compute_plot_data\u001b[49m\u001b[43m(\u001b[49m\u001b[43m)\u001b[49m\n\u001b[0;32m    328\u001b[0m     \u001b[38;5;28mself\u001b[39m\u001b[38;5;241m.\u001b[39m_setup_subplots()\n\u001b[0;32m    329\u001b[0m     \u001b[38;5;28mself\u001b[39m\u001b[38;5;241m.\u001b[39m_make_plot()\n",
      "File \u001b[1;32m~\\anaconda3\\lib\\site-packages\\pandas\\plotting\\_matplotlib\\core.py:506\u001b[0m, in \u001b[0;36mMPLPlot._compute_plot_data\u001b[1;34m(self)\u001b[0m\n\u001b[0;32m    504\u001b[0m \u001b[38;5;66;03m# no non-numeric frames or series allowed\u001b[39;00m\n\u001b[0;32m    505\u001b[0m \u001b[38;5;28;01mif\u001b[39;00m is_empty:\n\u001b[1;32m--> 506\u001b[0m     \u001b[38;5;28;01mraise\u001b[39;00m \u001b[38;5;167;01mTypeError\u001b[39;00m(\u001b[38;5;124m\"\u001b[39m\u001b[38;5;124mno numeric data to plot\u001b[39m\u001b[38;5;124m\"\u001b[39m)\n\u001b[0;32m    508\u001b[0m \u001b[38;5;28mself\u001b[39m\u001b[38;5;241m.\u001b[39mdata \u001b[38;5;241m=\u001b[39m numeric_data\u001b[38;5;241m.\u001b[39mapply(\u001b[38;5;28mself\u001b[39m\u001b[38;5;241m.\u001b[39m_convert_to_ndarray)\n",
      "\u001b[1;31mTypeError\u001b[0m: no numeric data to plot"
     ]
    }
   ],
   "source": [
    "# status\n",
    "df = time_out_status.replace({' OPTIMAL': 'OPTIMAL', ' success': 'FEASIBLE', ' Optimal': 'OPTIMAL'})\n",
    "\n",
    "ax = df.plot(y=['ortools_status', 'sprolog_status', 'docplex_status'])\n",
    "ax.set_xlabel(\"Time out (in seconds)\")\n",
    "ax.set_ylabel(\"Status\")\n",
    "ax.legend([\"OR-Tools\", \"SICStus\", \"DOcplex\"])\n"
   ]
  },
  {
   "cell_type": "code",
   "execution_count": 16,
   "id": "d3173e45",
   "metadata": {},
   "outputs": [
    {
     "data": {
      "text/plain": [
       "<matplotlib.legend.Legend at 0x20850420550>"
      ]
     },
     "execution_count": 16,
     "metadata": {},
     "output_type": "execute_result"
    },
    {
     "data": {
      "image/png": "[encoded data removed]",
      "text/plain": [
       "<Figure size 432x288 with 1 Axes>"
      ]
     },
     "metadata": {
      "needs_background": "light"
     },
     "output_type": "display_data"
    }
   ],
   "source": [
    "# objective value\n",
    "df = time_out_obj_value.astype(float).astype(int)\n",
    "\n",
    "ax = df.plot(y=['ortools_obj_value', 'sprolog_obj_value', 'docplex_obj_value'])\n",
    "ax.set_xlabel(\"Time out (in seconds)\")\n",
    "ax.set_ylabel(\"Objective function value\")\n",
    "ax.legend([\"OR-Tools\", \"SICStus\", \"DOcplex\"])"
   ]
  },
  {
   "cell_type": "code",
   "execution_count": null,
   "id": "3555d77d",
   "metadata": {},
   "outputs": [],
   "source": []
  }
 ],
 "metadata": {
  "interpreter": {
   "hash": "334d3b7d39a3ab2455005085e0bc90e55c0b51968e7c15978d132b7a8a056bf5"
  },
  "kernelspec": {
   "display_name": "Python 3 (ipykernel)",
   "language": "python",
   "name": "python3"
  },
  "language_info": {
   "codemirror_mode": {
    "name": "ipython",
    "version": 3
   },
   "file_extension": ".py",
   "mimetype": "text/x-python",
   "name": "python",
   "nbconvert_exporter": "python",
   "pygments_lexer": "ipython3",
   "version": "3.10.4"
  }
 },
 "nbformat": 4,
 "nbformat_minor": 5
}
